{
 "cells": [
  {
   "cell_type": "code",
   "execution_count": null,
   "id": "b288ee83-5d7a-4501-9eac-766202ae28d0",
   "metadata": {},
   "outputs": [],
   "source": [
    "import pandas as pd\n",
    "import sqlite3\n",
    "\n",
    "def csv_to_sql_dump(csv_file_path, output_sql_file_path, table_name):\n",
    "    conn = None  \n",
    "    try:\n",
    "        df = pd.read_csv(csv_file_path)\n",
    "        conn = sqlite3.connect(\":memory:\")   \n",
    "        print(\"conn  \", conn)\n",
    "        df.to_sql(table_name, conn, if_exists=\"replace\", index=False)\n",
    "        with open(output_sql_file_path, \"w\") as f:\n",
    "            for line in conn.iterdump():\n",
    "                f.write(f\"{line}\\n\")\n",
    "        print(f\"SQL dump has been written to {output_sql_file_path}\")\n",
    "    except Exception as e:\n",
    "        print(f\"An error occurred: {e}\")\n",
    "    finally:\n",
    "        if conn:\n",
    "            conn.close()   \n",
    "\n",
    "# Calling  \n",
    "csv_to_sql_dump(\n",
    "    csv_file_path=r\"C:\\Users\\Night Owl\\Desktop\\live_project\\branches.csv\",\n",
    "    output_sql_file_path=r\"C:\\Users\\Night Owl\\Desktop\\live_project\\branches_dump.sql\",\n",
    "    table_name=\"Branch_Data\")\n",
    "\n",
    "csv_to_sql_dump(\n",
    "    csv_file_path=r\"C:\\Users\\Night Owl\\Desktop\\live_project\\accountsdata.csv\",\n",
    "    output_sql_file_path=r\"C:\\Users\\Night Owl\\Desktop\\live_project\\accountsdata_dump.sql\",\n",
    "    table_name=\"accounts_data\")\n",
    "\n",
    "csv_to_sql_dump(\n",
    "    csv_file_path=r\"C:\\Users\\Night Owl\\Desktop\\live_project\\customersdata.csv\",\n",
    "    output_sql_file_path=r\"C:\\Users\\Night Owl\\Desktop\\live_project\\customersdata_dump.sql\",\n",
    "    table_name=\"customer_data\")\n",
    "\n",
    "csv_to_sql_dump(\n",
    "    csv_file_path=r\"C:\\Users\\Night Owl\\Desktop\\live_project\\kyc.csv\",\n",
    "    output_sql_file_path=r\"C:\\Users\\Night Owl\\Desktop\\live_project\\kyc_dump.sql\",\n",
    "    table_name=\"kyc_data\")\n",
    "\n",
    "csv_to_sql_dump(\n",
    "    csv_file_path=r\"C:\\Users\\Night Owl\\Desktop\\live_project\\payments.csv\",\n",
    "    output_sql_file_path=r\"C:\\Users\\Night Owl\\Desktop\\live_project\\payments_dump.sql\",\n",
    "    table_name=\"payments_data\")\n",
    "\n",
    "csv_to_sql_dump(\n",
    "    csv_file_path=r\"C:\\Users\\Night Owl\\Desktop\\live_project\\loans1.csv\",\n",
    "    output_sql_file_path=r\"C:\\Users\\Night Owl\\Desktop\\live_project\\loans_dump.sql\",\n",
    "    table_name=\"loans_data\")\n",
    "\n",
    "csv_to_sql_dump(\n",
    "    csv_file_path=r\"C:\\Users\\Night Owl\\Desktop\\live_project\\transactionsdata.csv\",\n",
    "    output_sql_file_path=r\"C:\\Users\\Night Owl\\Desktop\\live_project\\transactionsdata_dump.sql\",\n",
    "    table_name=\"transactions_data\")"
   ]
  }
 ],
 "metadata": {
  "kernelspec": {
   "display_name": "Python 3",
   "language": "python",
   "name": "python3"
  },
  "language_info": {
   "codemirror_mode": {
    "name": "ipython",
    "version": 3
   },
   "file_extension": ".py",
   "mimetype": "text/x-python",
   "name": "python",
   "nbconvert_exporter": "python",
   "pygments_lexer": "ipython3",
   "version": "3.13.1"
  }
 },
 "nbformat": 4,
 "nbformat_minor": 5
}
